{
 "cells": [
  {
   "cell_type": "code",
   "execution_count": 2,
   "id": "7d33c3a5",
   "metadata": {},
   "outputs": [
    {
     "data": {
      "application/vnd.jupyter.widget-view+json": {
       "model_id": "9737985636dd4c88a92b39e195075841",
       "version_major": 2,
       "version_minor": 0
      },
      "text/plain": [
       "interactive(children=(IntSlider(value=1, description='days', max=180, min=1), Dropdown(description='quarter', …"
      ]
     },
     "metadata": {},
     "output_type": "display_data"
    }
   ],
   "source": [
    "import  datetime\n",
    "from IPython.display import display\n",
    "from ipywidgets import widgets, interactive\n",
    "\n",
    "def by_q(days=1, quarter=\"q1y2015 \"):\n",
    "\n",
    "\n",
    "    return [1,2,3]\n",
    "\n",
    "\n",
    "v = interactive(by_q, quarter=(['q1y2015', 'q2y2015', 'q3y2015', 'q4y2015']), days=(1, 180))\n",
    "display(v)"
   ]
  }
 ],
 "metadata": {
  "kernelspec": {
   "display_name": ".venv",
   "language": "python",
   "name": "python3"
  },
  "language_info": {
   "codemirror_mode": {
    "name": "ipython",
    "version": 3
   },
   "file_extension": ".py",
   "mimetype": "text/x-python",
   "name": "python",
   "nbconvert_exporter": "python",
   "pygments_lexer": "ipython3",
   "version": "3.12.10"
  }
 },
 "nbformat": 4,
 "nbformat_minor": 5
}
