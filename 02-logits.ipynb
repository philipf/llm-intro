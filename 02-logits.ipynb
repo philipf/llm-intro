{
 "cells": [
  {
   "cell_type": "code",
   "execution_count": 1,
   "id": "91a97e14",
   "metadata": {},
   "outputs": [],
   "source": [
    "from transformers import AutoTokenizer, AutoModelForCausalLM\n",
    "import torch\n",
    "\n",
    "import matplotlib.pyplot as plt\n",
    "import ipywidgets as widgets"
   ]
  },
  {
   "cell_type": "code",
   "execution_count": 2,
   "id": "1a237431",
   "metadata": {},
   "outputs": [],
   "source": [
    "model = \"google/gemma-3-1b-pt\"\n",
    "\n",
    "tokenizer = AutoTokenizer.from_pretrained(model)\n",
    "model     = AutoModelForCausalLM.from_pretrained(model).to(\"cuda\")"
   ]
  },
  {
   "cell_type": "code",
   "execution_count": 3,
   "id": "81b1f49c",
   "metadata": {},
   "outputs": [
    {
     "name": "stdout",
     "output_type": "stream",
     "text": [
      "Length of probs: 262144\n"
     ]
    }
   ],
   "source": [
    "prompt = \"The cat sat on the\"\n",
    "inputs = tokenizer(prompt, return_tensors=\"pt\").to(\"cuda\")\n",
    "\n",
    "# Get logits without gradients\n",
    "with torch.no_grad():\n",
    "    outputs = model(**inputs)\n",
    "\n",
    "last_token_logits = outputs.logits[0, -1]\n",
    "# show the length of probs\n",
    "print(f\"Length of probs: {len(last_token_logits)}\")"
   ]
  },
  {
   "cell_type": "code",
   "execution_count": 4,
   "id": "6870b642",
   "metadata": {},
   "outputs": [
    {
     "data": {
      "application/vnd.jupyter.widget-view+json": {
       "model_id": "58ae81693084442890d0a16ec320c257",
       "version_major": 2,
       "version_minor": 0
      },
      "text/plain": [
       "interactive(children=(FloatSlider(value=1.0, continuous_update=False, description='Temperature:', max=4.0, min…"
      ]
     },
     "metadata": {},
     "output_type": "display_data"
    },
    {
     "data": {
      "text/plain": [
       "<function __main__.plot_top_tokens(temp)>"
      ]
     },
     "execution_count": 4,
     "metadata": {},
     "output_type": "execute_result"
    }
   ],
   "source": [
    "# Define the plotting function\n",
    "def plot_top_tokens(temp):\n",
    "    scaled_logits = last_token_logits / temp\n",
    "    probs = torch.softmax(scaled_logits, dim=-1)\n",
    "\n",
    "    top_probs, top_indices = torch.topk(probs, k=10)\n",
    "    top_tokens = tokenizer.convert_ids_to_tokens(top_indices.tolist())\n",
    "\n",
    "    plt.figure(figsize=(16, 5))\n",
    "    plt.bar(top_tokens, top_probs.cpu().numpy())\n",
    "    plt.title(f\"Top Predicted Next Tokens (Temp = {temp:.2f})\")\n",
    "    plt.xlabel(\"Token\")\n",
    "    plt.ylabel(\"Probability\")\n",
    "    plt.show()\n",
    "\n",
    "# Create a slider widget\n",
    "temp_slider = widgets.FloatSlider(\n",
    "    value=1.0,\n",
    "    min=0.05,\n",
    "    max=4.0,\n",
    "    step=0.05,\n",
    "    description='Temperature:',\n",
    "    continuous_update=False\n",
    ")\n",
    "\n",
    "# Link the slider to the plotting function\n",
    "widgets.interact(plot_top_tokens, temp=temp_slider)"
   ]
  }
 ],
 "metadata": {
  "kernelspec": {
   "display_name": ".venv",
   "language": "python",
   "name": "python3"
  },
  "language_info": {
   "codemirror_mode": {
    "name": "ipython",
    "version": 3
   },
   "file_extension": ".py",
   "mimetype": "text/x-python",
   "name": "python",
   "nbconvert_exporter": "python",
   "pygments_lexer": "ipython3",
   "version": "3.12.10"
  }
 },
 "nbformat": 4,
 "nbformat_minor": 5
}
